{
 "cells": [
  {
   "cell_type": "code",
   "execution_count": 1,
   "id": "736d8b7f",
   "metadata": {},
   "outputs": [
    {
     "data": {
      "text/html": [
       "<div>\n",
       "<style scoped>\n",
       "    .dataframe tbody tr th:only-of-type {\n",
       "        vertical-align: middle;\n",
       "    }\n",
       "\n",
       "    .dataframe tbody tr th {\n",
       "        vertical-align: top;\n",
       "    }\n",
       "\n",
       "    .dataframe thead th {\n",
       "        text-align: right;\n",
       "    }\n",
       "</style>\n",
       "<table border=\"1\" class=\"dataframe\">\n",
       "  <thead>\n",
       "    <tr style=\"text-align: right;\">\n",
       "      <th></th>\n",
       "      <th>text</th>\n",
       "      <th>Class</th>\n",
       "    </tr>\n",
       "  </thead>\n",
       "  <tbody>\n",
       "    <tr>\n",
       "      <th>0</th>\n",
       "      <td>ফ্রি ১জিবি(শুধু .... অ্যাপে ব্যবহারের জন্য)-৭দ...</td>\n",
       "      <td>Normal</td>\n",
       "    </tr>\n",
       "    <tr>\n",
       "      <th>1</th>\n",
       "      <td>বাংলালিংক-এ ৫৯পঃ/মিঃ(+ট্যাক্স) ৩০দিন মেয়াদে পে...</td>\n",
       "      <td>Normal</td>\n",
       "    </tr>\n",
       "    <tr>\n",
       "      <th>2</th>\n",
       "      <td>ব্রাজিল বনাম দক্ষিণ কোরিয়া এর খেলা দেখুন ....-...</td>\n",
       "      <td>Normal</td>\n",
       "    </tr>\n",
       "    <tr>\n",
       "      <th>3</th>\n",
       "      <td>বাংলালিংক-এর ৩দিন মেয়াদে পাচ্ছেন ৯টাকার স্ক্র্...</td>\n",
       "      <td>Normal</td>\n",
       "    </tr>\n",
       "    <tr>\n",
       "      <th>4</th>\n",
       "      <td>৩জিবি-৩দিন-৳৪৯ পেতে রিচার্জ/ডায়াল *১২১*৩০৪৯#সী...</td>\n",
       "      <td>Normal</td>\n",
       "    </tr>\n",
       "    <tr>\n",
       "      <th>5</th>\n",
       "      <td>২৩টাকায় ১জিবি-৭দিন মেয়াদে পেতে রিচার্জ/ডায়াল *...</td>\n",
       "      <td>Normal</td>\n",
       "    </tr>\n",
       "    <tr>\n",
       "      <th>6</th>\n",
       "      <td>৪৭টাকায় ৬৫মিনিট ৩০দিন! কিনতে রিচার্জ ৪৭টাকা/ ড...</td>\n",
       "      <td>Normal</td>\n",
       "    </tr>\n",
       "    <tr>\n",
       "      <th>7</th>\n",
       "      <td>আপনার প্যাক ১জিবি(৩০০এমবি+৭২৪এমবি বোনাস)-৩দিন-...</td>\n",
       "      <td>Normal</td>\n",
       "    </tr>\n",
       "    <tr>\n",
       "      <th>8</th>\n",
       "      <td>কুরবানি মজাদার রেসিপি .... পেতে ডায়াল করুন *.....</td>\n",
       "      <td>Normal</td>\n",
       "    </tr>\n",
       "    <tr>\n",
       "      <th>9</th>\n",
       "      <td>চাকরি খুজছেন,চাকরির .... পেতে ডায়াল করুন *.......</td>\n",
       "      <td>Normal</td>\n",
       "    </tr>\n",
       "  </tbody>\n",
       "</table>\n",
       "</div>"
      ],
      "text/plain": [
       "                                                text   Class\n",
       "0  ফ্রি ১জিবি(শুধু .... অ্যাপে ব্যবহারের জন্য)-৭দ...  Normal\n",
       "1  বাংলালিংক-এ ৫৯পঃ/মিঃ(+ট্যাক্স) ৩০দিন মেয়াদে পে...  Normal\n",
       "2  ব্রাজিল বনাম দক্ষিণ কোরিয়া এর খেলা দেখুন ....-...  Normal\n",
       "3  বাংলালিংক-এর ৩দিন মেয়াদে পাচ্ছেন ৯টাকার স্ক্র্...  Normal\n",
       "4  ৩জিবি-৩দিন-৳৪৯ পেতে রিচার্জ/ডায়াল *১২১*৩০৪৯#সী...  Normal\n",
       "5  ২৩টাকায় ১জিবি-৭দিন মেয়াদে পেতে রিচার্জ/ডায়াল *...  Normal\n",
       "6  ৪৭টাকায় ৬৫মিনিট ৩০দিন! কিনতে রিচার্জ ৪৭টাকা/ ড...  Normal\n",
       "7  আপনার প্যাক ১জিবি(৩০০এমবি+৭২৪এমবি বোনাস)-৩দিন-...  Normal\n",
       "8  কুরবানি মজাদার রেসিপি .... পেতে ডায়াল করুন *.....  Normal\n",
       "9  চাকরি খুজছেন,চাকরির .... পেতে ডায়াল করুন *.......  Normal"
      ]
     },
     "execution_count": 1,
     "metadata": {},
     "output_type": "execute_result"
    }
   ],
   "source": [
    "import pandas as pd\n",
    "dir = \"F:\\Afro\\SpamtextDetectiondataset.xlsx\"\n",
    "df = pd.read_excel(dir)\n",
    "df.head(10)"
   ]
  },
  {
   "cell_type": "code",
   "execution_count": 2,
   "id": "82858226",
   "metadata": {},
   "outputs": [
    {
     "data": {
      "text/plain": [
       "<AxesSubplot:ylabel='Class'>"
      ]
     },
     "execution_count": 2,
     "metadata": {},
     "output_type": "execute_result"
    },
    {
     "data": {
      "image/png": "[encoded data removed]",
      "text/plain": [
       "<Figure size 432x288 with 1 Axes>"
      ]
     },
     "metadata": {},
     "output_type": "display_data"
    }
   ],
   "source": [
    "df['Class'].value_counts().plot.pie(autopct='%.2f')"
   ]
  },
  {
   "cell_type": "code",
   "execution_count": 3,
   "id": "2ee1befb",
   "metadata": {},
   "outputs": [],
   "source": [
    "from bltk.langtools.banglachars import (vowels,\n",
    "                                        vowel_signs,\n",
    "                                        consonants,\n",
    "                                        digits,\n",
    "                                        operators,\n",
    "                                        punctuations,\n",
    "                                        others)\n",
    "from bltk.langtools import Tokenizer\n",
    "from bltk.langtools import remove_stopwords\n",
    "from bltk.langtools import PosTagger\n",
    "from bltk.langtools import Chunker\n",
    "from bltk.langtools import UgraStemmer\n",
    "import re"
   ]
  },
  {
   "cell_type": "code",
   "execution_count": 4,
   "id": "407b7ba4",
   "metadata": {},
   "outputs": [],
   "source": [
    "tokenizer = Tokenizer()\n"
   ]
  },
  {
   "cell_type": "code",
   "execution_count": 5,
   "id": "02548c53",
   "metadata": {},
   "outputs": [],
   "source": [
    "#text = df['text']\n",
    "#text = text.remove(\"\")"
   ]
  },
  {
   "cell_type": "code",
   "execution_count": 6,
   "id": "3fa9c56c",
   "metadata": {},
   "outputs": [],
   "source": [
    "#stop_words = set(remove_stopwords(sentences))\n",
    "#stop_words = set(stopwords.words(\"english\"))"
   ]
  },
  {
   "cell_type": "code",
   "execution_count": 7,
   "id": "f4330830",
   "metadata": {},
   "outputs": [],
   "source": [
    "def text_preproc(x):\n",
    "    #x = ' '.join([word for word in x.split( ) if word not in stop_words])\n",
    "    x = re.sub(f'{digits}', ' ',x)\n",
    "    #x = re.sub(f'{others}', ' ',x)\n",
    "    #x = x.encode('ascii', 'ignore').decode()\n",
    "    x = re.sub(f'https', ' ', x)\n",
    "    #x = re.sub(f'@\\S+', ' ', x)\n",
    "    x = re.sub(f'-', '', x)\n",
    "    x = re.sub(f'_', '', x)\n",
    "    #x = re.sub('[%s]' % re.escape(string.punctuation), ' ', x)\n",
    "    x = re.sub(f'৳', '', x)\n",
    "    #x = re.sub(f'\\s{2,}', ' ', x)\n",
    "    #x = re.sub(f'\\[]', '', x)\n",
    "    x = re.sub(f'/', '', x)\n",
    "    \n",
    "    return x\n"
   ]
  },
  {
   "cell_type": "code",
   "execution_count": 8,
   "id": "50423bd0",
   "metadata": {},
   "outputs": [
    {
     "data": {
      "text/html": [
       "<div>\n",
       "<style scoped>\n",
       "    .dataframe tbody tr th:only-of-type {\n",
       "        vertical-align: middle;\n",
       "    }\n",
       "\n",
       "    .dataframe tbody tr th {\n",
       "        vertical-align: top;\n",
       "    }\n",
       "\n",
       "    .dataframe thead th {\n",
       "        text-align: right;\n",
       "    }\n",
       "</style>\n",
       "<table border=\"1\" class=\"dataframe\">\n",
       "  <thead>\n",
       "    <tr style=\"text-align: right;\">\n",
       "      <th></th>\n",
       "      <th>text</th>\n",
       "      <th>Class</th>\n",
       "      <th>clean_text</th>\n",
       "    </tr>\n",
       "  </thead>\n",
       "  <tbody>\n",
       "    <tr>\n",
       "      <th>0</th>\n",
       "      <td>ফ্রি ১জিবি(শুধু .... অ্যাপে ব্যবহারের জন্য)-৭দ...</td>\n",
       "      <td>Normal</td>\n",
       "      <td>ফ্রি  জিবি(শুধু .... অ্যাপে ব্যবহারের জন্য) দি...</td>\n",
       "    </tr>\n",
       "    <tr>\n",
       "      <th>1</th>\n",
       "      <td>বাংলালিংক-এ ৫৯পঃ/মিঃ(+ট্যাক্স) ৩০দিন মেয়াদে পে...</td>\n",
       "      <td>Normal</td>\n",
       "      <td>বাংলালিংকএ   পঃমিঃ(+ট্যাক্স)   দিন মেয়াদে পেতে...</td>\n",
       "    </tr>\n",
       "    <tr>\n",
       "      <th>2</th>\n",
       "      <td>ব্রাজিল বনাম দক্ষিণ কোরিয়া এর খেলা দেখুন ....-...</td>\n",
       "      <td>Normal</td>\n",
       "      <td>ব্রাজিল বনাম দক্ষিণ কোরিয়া এর খেলা দেখুন ....ত...</td>\n",
       "    </tr>\n",
       "    <tr>\n",
       "      <th>3</th>\n",
       "      <td>বাংলালিংক-এর ৩দিন মেয়াদে পাচ্ছেন ৯টাকার স্ক্র্...</td>\n",
       "      <td>Normal</td>\n",
       "      <td>বাংলালিংকএর  দিন মেয়াদে পাচ্ছেন  টাকার স্ক্র্য...</td>\n",
       "    </tr>\n",
       "    <tr>\n",
       "      <th>4</th>\n",
       "      <td>৩জিবি-৩দিন-৳৪৯ পেতে রিচার্জ/ডায়াল *১২১*৩০৪৯#সী...</td>\n",
       "      <td>Normal</td>\n",
       "      <td>জিবি দিন   পেতে রিচার্জডায়াল *   *    #সীমিত ...</td>\n",
       "    </tr>\n",
       "    <tr>\n",
       "      <th>5</th>\n",
       "      <td>২৩টাকায় ১জিবি-৭দিন মেয়াদে পেতে রিচার্জ/ডায়াল *...</td>\n",
       "      <td>Normal</td>\n",
       "      <td>টাকায়  জিবি দিন মেয়াদে পেতে রিচার্জডায়াল *  ...</td>\n",
       "    </tr>\n",
       "    <tr>\n",
       "      <th>6</th>\n",
       "      <td>৪৭টাকায় ৬৫মিনিট ৩০দিন! কিনতে রিচার্জ ৪৭টাকা/ ড...</td>\n",
       "      <td>Normal</td>\n",
       "      <td>টাকায়   মিনিট   দিন! কিনতে রিচার্জ   টাকা ডা...</td>\n",
       "    </tr>\n",
       "    <tr>\n",
       "      <th>7</th>\n",
       "      <td>আপনার প্যাক ১জিবি(৩০০এমবি+৭২৪এমবি বোনাস)-৩দিন-...</td>\n",
       "      <td>Normal</td>\n",
       "      <td>আপনার প্যাক  জিবি(   এমবি+   এমবি বোনাস) দিন  ...</td>\n",
       "    </tr>\n",
       "    <tr>\n",
       "      <th>8</th>\n",
       "      <td>কুরবানি মজাদার রেসিপি .... পেতে ডায়াল করুন *.....</td>\n",
       "      <td>Normal</td>\n",
       "      <td>কুরবানি মজাদার রেসিপি .... পেতে ডায়াল করুন *.....</td>\n",
       "    </tr>\n",
       "    <tr>\n",
       "      <th>9</th>\n",
       "      <td>চাকরি খুজছেন,চাকরির .... পেতে ডায়াল করুন *.......</td>\n",
       "      <td>Normal</td>\n",
       "      <td>চাকরি খুজছেন চাকরির .... পেতে ডায়াল করুন *.......</td>\n",
       "    </tr>\n",
       "  </tbody>\n",
       "</table>\n",
       "</div>"
      ],
      "text/plain": [
       "                                                text   Class  \\\n",
       "0  ফ্রি ১জিবি(শুধু .... অ্যাপে ব্যবহারের জন্য)-৭দ...  Normal   \n",
       "1  বাংলালিংক-এ ৫৯পঃ/মিঃ(+ট্যাক্স) ৩০দিন মেয়াদে পে...  Normal   \n",
       "2  ব্রাজিল বনাম দক্ষিণ কোরিয়া এর খেলা দেখুন ....-...  Normal   \n",
       "3  বাংলালিংক-এর ৩দিন মেয়াদে পাচ্ছেন ৯টাকার স্ক্র্...  Normal   \n",
       "4  ৩জিবি-৩দিন-৳৪৯ পেতে রিচার্জ/ডায়াল *১২১*৩০৪৯#সী...  Normal   \n",
       "5  ২৩টাকায় ১জিবি-৭দিন মেয়াদে পেতে রিচার্জ/ডায়াল *...  Normal   \n",
       "6  ৪৭টাকায় ৬৫মিনিট ৩০দিন! কিনতে রিচার্জ ৪৭টাকা/ ড...  Normal   \n",
       "7  আপনার প্যাক ১জিবি(৩০০এমবি+৭২৪এমবি বোনাস)-৩দিন-...  Normal   \n",
       "8  কুরবানি মজাদার রেসিপি .... পেতে ডায়াল করুন *.....  Normal   \n",
       "9  চাকরি খুজছেন,চাকরির .... পেতে ডায়াল করুন *.......  Normal   \n",
       "\n",
       "                                          clean_text  \n",
       "0  ফ্রি  জিবি(শুধু .... অ্যাপে ব্যবহারের জন্য) দি...  \n",
       "1  বাংলালিংকএ   পঃমিঃ(+ট্যাক্স)   দিন মেয়াদে পেতে...  \n",
       "2  ব্রাজিল বনাম দক্ষিণ কোরিয়া এর খেলা দেখুন ....ত...  \n",
       "3  বাংলালিংকএর  দিন মেয়াদে পাচ্ছেন  টাকার স্ক্র্য...  \n",
       "4   জিবি দিন   পেতে রিচার্জডায়াল *   *    #সীমিত ...  \n",
       "5    টাকায়  জিবি দিন মেয়াদে পেতে রিচার্জডায়াল *  ...  \n",
       "6    টাকায়   মিনিট   দিন! কিনতে রিচার্জ   টাকা ডা...  \n",
       "7  আপনার প্যাক  জিবি(   এমবি+   এমবি বোনাস) দিন  ...  \n",
       "8  কুরবানি মজাদার রেসিপি .... পেতে ডায়াল করুন *.....  \n",
       "9  চাকরি খুজছেন চাকরির .... পেতে ডায়াল করুন *.......  "
      ]
     },
     "execution_count": 8,
     "metadata": {},
     "output_type": "execute_result"
    }
   ],
   "source": [
    "df['clean_text'] = df.text.apply(text_preproc)\n",
    "df.head(10)"
   ]
  },
  {
   "cell_type": "code",
   "execution_count": 9,
   "id": "ef822507",
   "metadata": {},
   "outputs": [],
   "source": [
    "#df['cle5an_text'] = tokenizer.sentence_tokenizer(df['clean_text'])"
   ]
  },
  {
   "cell_type": "code",
   "execution_count": 10,
   "id": "a2a6d7c4",
   "metadata": {},
   "outputs": [],
   "source": [
    "# ei variable ta hudai nisi\n",
    "#dy = df['clean_text']"
   ]
  },
  {
   "cell_type": "code",
   "execution_count": 11,
   "id": "37d0d521",
   "metadata": {},
   "outputs": [
    {
     "name": "stdout",
     "output_type": "stream",
     "text": [
      "['ফ্রি জিবিশুধু অ্যাপে ব্যবহারের পেতে ঘন্টার রেফারেল কোডটি করুনসর্বোচ্চ ওম্যাচ দেখুন', 'বাংলালিংকএ পঃমিঃট্যাক্স মেয়াদে পেতে রিচার্জ টাকা', 'ব্রাজিল বনাম দক্ষিণ কোরিয়া খেলা দেখুন তে বাংলালিংকএর যেকোনো ইন্টারনেট প্যাকে নিরবচ্ছিন্নভাবে জিবি টাকা কিনতে ডায়াল', 'বাংলালিংকএর মেয়াদে পাচ্ছেন টাকার স্ক্র্যাচ কার্ডে এমবি টাকার স্ক্র্যাচকার্ডে এমবি আজই রিচার্জ করুন ব্যালেন্স চেক ডায়াল ভিজিটঃ', 'জিবি পেতে রিচার্জডায়াল সীমিত অফার', 'টাকায় জিবি মেয়াদে পেতে রিচার্জডায়াল সীমিত অফার', 'টাকায় মিনিট কিনতে রিচার্জ টাকা ডায়াল', 'প্যাক জিবি এমবি এমবি বোনাস টাকা মিনি মেয়াদ শেষ ব্যালেন্স চেক ডায়াল ভিজিট অ্যাপ', 'কুরবানি মজাদার রেসিপি পেতে ডায়াল করুন চার্জ দৈনিক', 'চাকরি খুজছেন চাকরির পেতে ডায়াল করুন চার্জ দৈনিক', 'অন্তর্ভুক্তিমূলক উন্নয়নের পরিবর্তনমুখী পদক্ষেপ প্রবেশগম্য সমতাভিত্তিক বিশ্ব বিনির্মাণে উদ্ভাবনের ভূমিকা তম আন্তর্জাতিক তম জাতীয় প্রতিবন্ধী দিবস সমাজকল্যাণ মন্ত্রণালয়', 'পার্বত্য চট্টগ্রাম শান্তি চুক্তির বছর পূর্তি উপলক্ষ্যে পার্বত্য চট্টগ্রাম বিষয়ক মন্ত্রণালয়ের পক্ষ সকলকে শুভেচ্ছা', 'বাংলালিংকএর অবিশ্বাস্য অফার পেতে আজই ডায়াল করুন ভিসিট', 'অ্যাপ নিজ নাম্বারে টাকা রিচার্জ টাকা ক্যাশব্যাক', 'বাংলালিংকএ স্পেশাল অফার পঃমিঃট্যাক্স মেয়াদে পেতে রিচার্জ করুন টাকা', 'টাকায় জিবি এমবি এমবি বোনাস বাংলালিংকএর স্পেশাল ইন্টারনেট অফার পেতে রিচার্জ ডায়াল', 'মিনিট অফার পেতে টাকা রিচার্জডায়াল করুন করুন', 'দুঃখিত টাকা রিচার্জ সফল হয়নি বাংলালিংক সর্বনিম্ন রিচার্জ টাকা লেনদেন আইডি', 'বাংলালিংকএ স্পেশাল অফার পঃমিঃট্যাক্স মেয়াদে পেতে রিচার্জ করুন টাকা', 'ঈদে ঘরে কানেকটেড থাকি আপনজনের সাথে ঈদের খুশি ছড়িয়ে দেই আকর্ষণীয় অফার উপভোগ এখুনি ডায়াল করুন', 'মিনিট টাকাকিনতে রিচার্জ টাকা', 'প্রিয় কর্তৃপক্ষের নিকট উপযুক্ত বিবেচিত হওয়ায় আবেদনটি অনুমোদন হয়েছে অনলাইন সিস্টেম কার্ডটি ডাউনলোড আবেদন জমাকৃত অফিস কার্ডটি গ্রহণ পারবেন ইসি বাংলাদেশ', 'মিনিট টাকা কিনতে রিচার্জ টাকা', 'ইকেটলি কম্ফোর্টার পিওরইট কীট গুঁড়াদুধ ছাড়কফি ছাড়চা ছাড়নুডলস ফ্রিমিনিকেট প্রি মধু ছাড়নিভিয়া লোশন ছাড়পেপসোডেন্ট ছাড়সেভেন আপ ছাড়শপ্র স্বপ্ন ঢাকা', 'রিচার্জে রিচার্জে ডায়াল বিকাশ রিচার্জেও পাবেন', 'জিবি রিচার্জে শুধুমাত্র বিকাশনগদরকেটট্যাপউপায় এয়ারটেলে', 'পেতে পাঠাও ফুডএ অর্ডার ফুটবল বিশ্বকাপে জিতে পারবেন এছাড়াও ছাড় আছেই দেরি এখনই অর্ডার করুন শর্ত প্রযোজ্য', 'ফ্ল্যাট ডিসকাউন্ট এখনই অর্ডার করুন পাঠাও ফুডএঅ্যাপ্লাই মিনিমাম অর্ডার শর্ত প্রযোজ্য', 'চলছে নিশ্চিত', 'হাইওয়ের এক ভয়ংকর যাত্রা চলছে অরিজিনাল ওয়েব ফিল্ম কফিন ভয়ের যাত্রায় সঙ্গী দেখুন', 'জিবি রিচার্জে শুধুমাত্র বিকাশনগদরকেট এয়ারটেলে', 'প্রিয় মানুষকে ভালোবাসার কথা জানাতে ডায়াল করুন', 'খণ্ডকালীন চাকরি বেতন বাড়ি করুন', 'মাইজিপিতে বিপিএল লাইভ ক্লিক করুন', 'লাইসেন্স বিনামূল্যে পেনড্রাইভ উপহার অফিস টাকাপিসিঅফিস করুন।ডিজিটাল লাইসেন্স ইমেইল ডেলিভারি অফিসিয়াল চালান।কল', 'ধন্যবাদ করোনা টেস্ট করানোর রেজিস্ট্রেশনের ওটিপি পরবর্তী মিনিট', 'ধন্যবাদ টোকেন নম্বর অনুগ্রহ জুলাই সোমবার সকাল মিনিট সকাল মিনিটের কিয়স্ক বুথে উপস্থিতি নিশ্চিত করুন স্থান আমলিগোলা পার্ক এন্ড কমিউনিটি সেন্টার লালবাগ', 'দুঃখিত টাকার সেন্ড মানি রিকোয়েস্ট প্রেরকের বাতিল বিকাশ অ্যাপ এক্সপ্লোর ডাউনলোড করুন', 'কঠিন প্রস্তুতি গোছানো হয়।গোছানো প্রস্তুতির প্রত্যয় উদ্ভাসউন্মেষ অনলাইন উদ্যোগ', 'প্রিয় সুহৃদ উদ্ভাসউন্মেষ অনলাইন উদ্যোগ বিসিএস প্লাস নাম উত্তরণ', 'বাল্ক এসএমএস উর ব্যবসা প্রচার করুন লাখ টাকা লাখ টাকাফেসবুক বুস্টিং জানুয়ারী অফার', 'চুলদাঁড়ি কলপ শেষশুধু শ্যাম্পু চুল ন্যাচারাল কালো মিনিটে', 'বসুন্ধরায় অত্যাধুনিক সকল সুযোগসুবিধা সম্পন্ন বাণিজ্যিক ভবন রূপায়ণ প্লাটিনাম স্কয়ার ভবিষ্যৎ ব্যবসায়িক ঠিকানা', 'স্বল্পমূল্যে প্রতিষ্ঠানএর ওয়েবসাইট তৈরি।পণ্যসেবা প্রচারণায় পাঠান পয়সায়', 'ঢাকা সিটিতে কুরবানী জন্যআপনার সেবায় আলমারকাজুল', 'জিবি টাকায় মেয়াদ জুলাই ডায়াল', 'বিজনেস মাইগ্রেশনের অস্ট্রেলিয়াকে য় বাড়ি করুন অ্যাপ্লিকেশন বিস্তারিত জানার টাউনশেন্ড গ্রুপে যোগাযোগ করুন', 'বিদেশী স্কুলে ভর্তিবয়স কানাডা ইউএসএ ইউকে অস্ট্রেলিয়াঅভিভাবকরা কাজের সুযোগ আবেদন পারেনতথ্য', 'প্রিয় স্টুডেন্ট তোমাদের উপবৃত্তির টাকা টাকা নাম্বারে যোগাযোগ করুনসকাল টা রাত টা', 'সকল টেকনো হ্যান্ডসেটের সাথে গ্রামীণফোন ফোরজি সিম রিপ্লেসমেন্ট ফ্রিকেনার সময় বুঝে নিন সিম রিপ্লেসমেন্ট কুপন', 'বোনাসসহ জিবি মিনিট টাকা আজকেই ডায়াল করুন', 'মাইজিপিতে টাকায় টাকাই ক্যাশব্যাক বার।নিতে', 'জিবি টাকা ডায়াল', 'ফ্রি এমবি ইন্টারনেট আজই মাইজিপি অ্যাপে আসুন।ক্লিক', 'প্রিয় গ্রাহক পার্সেল সফলভাবে বিতরণ অভিজ্ঞতা রেট দেখুন', 'অক্টোবরশনিবার টা টা প্রিমিয়ার ব্যাংক ইউকে এডুকেশন এক্সপো বনানীর হোটেল সারিনায় অনুষ্ঠিত প্লট রোড বনানী বিশ্ববিদ্যালয় স্কলারশিপ সুবিধা আয়েলস ওআইইটিসি শতভাগ ক্যাশব্যাক ভাউচার।বিডি এক্সপার্ট এডুকেশন', 'আজকের ধামাকা অফার বোনাস জিবি টাকা ডায়াল', 'পরবর্তী জিপিজিপি নম্বর কলের সেকেন্ড ফ্রি পেয়েছেন ব্যালেন্স ডায়াল করুন ধন্যবাদ গ্রামীণফোন', 'এমবি ইমো টিকটক ফেসবুক ডাটা টাকায় ডায়াল', 'পাওয়ারলোড রিচার্জে টাকা মিনিট ঘন্টা টাকা মিনিট টাকা মিনিট', 'জিবি জিবি বোনাস রিচার্জ বিকাশ টাকা ডায়াল', 'ব্যালেন্স শেষ টাকা জিপি ইমার্জেন্সি ব্যালেন্স', 'বিকাশেমাইজিপিতে এমবি টাকা জিবি টাকা মেয়াদ', 'বাড়তি ব্যয়ের সমাধানে বাড়তি আয় করুন হালাল আয় সুদমুক্ত জীবন গড়ে তুলুন', 'পয়সামিনিট কলরেট অফারটি সেকেন্ড পালস্ হয়েছে মেয়াদ ব্যালেন্স অফারটি বন্ধ ডায়াল করুন', 'বিকাশ যেকোনো জিপি নাম্বারে রিচার্জে ক্যাশব্যাক ঘন্টায় দুপুর রাত টা ডায়াল', 'কানাডায় স্পট ভর্তিবিদেশী প্রতিনিধির উপস্থিতিতে নভেম্বর চাকরি জনসংযোগের সুযোগ', 'ইমো তে ট্যাক্স কিনুন ডাইমন্ড রবিএয়ারটেল মোবাইল ব্যালান্স দিয়ে।কিনতে ইমো এপপপ্রোফাইলইমো ওয়ালেট রিচার্জ লোকেশনবাংলাদেশরবিএয়ারটেল', 'রবি অ্যাপে টাকা মেগা ক্যাশব্যাক কিনতে ক্লিক', 'বিশ্বকাপের নকআউট পর্বের শেষ স্কোয়াড কার্নিভাল উপভোগ ফিফা প্রত্যেক ভক্তকে পেয়েছি চেক আউট', 'সাপ্তাহিক লিডারবোর্ড শীঘ্রই শেষ এলিট লাউঞ্জের খেলোয়াড়দের সাথে খেলার বাছাই পর্বের শেষ সুযোগ উত্তীর্ণ এলিট খেলোয়াড়দের অতি শীঘ্রই দেশের বাছাই পর্বের আমন্ত্রণ এখনই সাথে যুক্ত', 'সেরা কলরেট পমি সারামাস পোস্টপেইডে নিয়মিত বিল দিলেই রবি পোস্টপেইডে মাইগ্রেট ডায়াল ক্লিক']\n"
     ]
    }
   ],
   "source": [
    "corpus = []\n",
    "arr = []\n",
    "for i in range(0, len(df)):\n",
    "    review = df['clean_text'][i]\n",
    "    y_val_temp = df['Class'][i]\n",
    "    review = \"\".join(i for i in review if i in [\"।\"] or 2432 <= ord(i) <= 2559 or ord(i)== 32)\n",
    "    review =\" \".join(review.split())\n",
    "    # tokenizing word\n",
    "    review = tokenizer.word_tokenizer(review)\n",
    "    #arr.append(review)\n",
    "    while(\"\" in review) : \n",
    "        review.remove(\"\") \n",
    "    # removing stopword\n",
    "    review = remove_stopwords(review, level='moderate')\n",
    "    #print(review)\n",
    "    #review = stemmer.stem(review)\n",
    "    #print(review)\n",
    "    if(review==None):\n",
    "        continue\n",
    "    review = ' '.join(review)\n",
    "    \n",
    "    corpus.append(review)\n",
    "    arr.append(y_val_temp)\n",
    "    \n",
    "print(corpus)\n"
   ]
  },
  {
   "cell_type": "code",
   "execution_count": 12,
   "id": "c44190e4",
   "metadata": {},
   "outputs": [],
   "source": [
    "# Creating the Bag of Words model\n",
    "from sklearn.feature_extraction.text import CountVectorizer\n",
    "count_vector = CountVectorizer(max_features=1800)\n",
    "X = count_vector.fit_transform(corpus).toarray()\n",
    "\n",
    "y=pd.get_dummies(arr)\n",
    "y = y.iloc[:,1].values"
   ]
  },
  {
   "cell_type": "code",
   "execution_count": 13,
   "id": "36a4f3ec",
   "metadata": {},
   "outputs": [
    {
     "name": "stdout",
     "output_type": "stream",
     "text": [
      "(72, 238)\n",
      "(72,)\n",
      "[0 0 0 0 0 0 0 0 0 0 0 0 0 0 0 0 0 0 0 0 0 0 0 0 0 0 0 0 0 0 0 0 1 0 1 0 0\n",
      " 0 0 0 1 1 1 0 0 0 1 1 1 0 0 0 0 0 0 1 0 0 0 0 0 0 0 1 0 0 1 0 0 1 1 0]\n"
     ]
    }
   ],
   "source": [
    "print(X.shape)\n",
    "print(y.shape)\n",
    "print(y)\n"
   ]
  },
  {
   "cell_type": "code",
   "execution_count": 14,
   "id": "b208a301",
   "metadata": {},
   "outputs": [],
   "source": [
    "# Train Test Split\n",
    "\n",
    "from sklearn.model_selection import train_test_split\n",
    "X_train, X_test, y_train, y_test = train_test_split(X, y, test_size = 0.20, random_state = 0)"
   ]
  },
  {
   "cell_type": "code",
   "execution_count": 15,
   "id": "c1687f23",
   "metadata": {},
   "outputs": [],
   "source": [
    "# Training model using Naive bayes classifier\n",
    "from sklearn.metrics import classification_report,confusion_matrix,accuracy_score\n",
    "from sklearn.naive_bayes import MultinomialNB\n",
    "model = MultinomialNB().fit(X_train, y_train)"
   ]
  },
  {
   "cell_type": "code",
   "execution_count": 16,
   "id": "666cbb49",
   "metadata": {},
   "outputs": [
    {
     "data": {
      "text/plain": [
       "0.7333333333333333"
      ]
     },
     "execution_count": 16,
     "metadata": {},
     "output_type": "execute_result"
    }
   ],
   "source": [
    "y_pred=model.predict(X_test)\n",
    "accuracy_score(y_test,y_pred)"
   ]
  }
 ],
 "metadata": {
  "kernelspec": {
   "display_name": "Python 3 (ipykernel)",
   "language": "python",
   "name": "python3"
  },
  "language_info": {
   "codemirror_mode": {
    "name": "ipython",
    "version": 3
   },
   "file_extension": ".py",
   "mimetype": "text/x-python",
   "name": "python",
   "nbconvert_exporter": "python",
   "pygments_lexer": "ipython3",
   "version": "3.9.7"
  }
 },
 "nbformat": 4,
 "nbformat_minor": 5
}
